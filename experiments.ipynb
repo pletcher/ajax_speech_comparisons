{
 "cells": [
  {
   "cell_type": "code",
   "execution_count": 1,
   "id": "bf3a068f-c4ff-4b54-bb8c-6c7550513606",
   "metadata": {},
   "outputs": [],
   "source": [
    "import csv\n",
    "import math\n",
    "import string\n",
    "import unicodedata\n",
    "\n",
    "from collections import Counter\n",
    "\n",
    "import nltk\n",
    "\n",
    "import matplotlib.pyplot as plt\n",
    "\n",
    "from cltk.stops.grc import STOPS\n",
    "from cltk import NLP\n",
    "from cltk.alphabet.processes import GreekNormalizeProcess\n",
    "\n",
    "from ajax_odysseus_speech_analysis.group_speeches import AjaxDocument"
   ]
  },
  {
   "cell_type": "code",
   "execution_count": 2,
   "id": "ecd9da15-2737-440f-9ce9-e6ec1e492d91",
   "metadata": {},
   "outputs": [
    {
     "name": "stdout",
     "output_type": "stream",
     "text": [
      "‎𐤀 CLTK version '1.1.6'.\n",
      "Pipeline for language 'Ancient Greek' (ISO: 'grc'): `GreekNormalizeProcess`, `GreekStanzaProcess`, `GreekEmbeddingsProcess`, `StopsProcess`.\n"
     ]
    }
   ],
   "source": [
    "DOC = AjaxDocument()\n",
    "GREEK_STOPS = [unicodedata.normalize('NFC', s) for s in STOPS]\n",
    "ajax = 'Αἴας'\n",
    "odysseus = 'Ὀδυσσεύς'"
   ]
  },
  {
   "cell_type": "code",
   "execution_count": 3,
   "id": "8cabcc57-ee6b-490a-8308-fd85291a38d9",
   "metadata": {},
   "outputs": [],
   "source": [
    "speeches = DOC.group_lines()"
   ]
  },
  {
   "cell_type": "code",
   "execution_count": 96,
   "id": "3a951a3c-77dc-4852-b1c5-b5048cc7681d",
   "metadata": {},
   "outputs": [],
   "source": [
    "from dataclasses import dataclass\n",
    "\n",
    "def docify_lines(speaker):\n",
    "    lines = speeches[speaker]\n",
    "    docified_lines = []\n",
    "    \n",
    "    for l in lines:\n",
    "        docified_lines.append(l)\n",
    "    \n",
    "    print(docified_lines)\n",
    "    return \"\\n\".join(docified_lines)\n",
    "\n",
    "def clean_string(s):\n",
    "    return s.strip(string.punctuation)\n",
    "\n",
    "@dataclass\n",
    "class Line:\n",
    "    n: str\n",
    "    raw_text: str\n",
    "    words: list[any]\n",
    "\n",
    "def analyze_lines(speaker):\n",
    "    lines = speeches[speaker]\n",
    "    analyzed_lines = []\n",
    "    for line in lines:\n",
    "        analyzed = DOC.nlp.analyze(line[1])\n",
    "        analyzed_lines.append(Line(n=line[0], raw_text=line[1], words=analyzed.words))\n",
    "        \n",
    "    return analyzed_lines"
   ]
  },
  {
   "cell_type": "code",
   "execution_count": 115,
   "id": "5461ea7f-7d5b-4b83-8e00-879bee8dc515",
   "metadata": {},
   "outputs": [],
   "source": [
    "def calculate_lemma_tf(term, doc):\n",
    "    counts = {}\n",
    "    for word in doc:\n",
    "        if counts.get(word.lemma) is not None:\n",
    "            counts[word.lemma] += 1\n",
    "        else:\n",
    "            counts[word.lemma] = 1\n",
    "            \n",
    "    total_terms = sum([count for t, count in counts.items()])\n",
    "    return counts.get(term.lemma) / total_terms"
   ]
  },
  {
   "cell_type": "code",
   "execution_count": 116,
   "id": "18fcfff1-0cbf-477e-9a29-751928675642",
   "metadata": {},
   "outputs": [],
   "source": [
    "def calculate_lemma_idf(term, docs):\n",
    "    n = len(docs)\n",
    "    d = 1 + sum([1 for d in docs if term.lemma in d])\n",
    "    \n",
    "    return math.log(n / d, 2)"
   ]
  },
  {
   "cell_type": "code",
   "execution_count": 97,
   "id": "9fb8a9c0-6029-43f0-858c-155e69de2af5",
   "metadata": {},
   "outputs": [],
   "source": [
    "all_speaker_lines_analyzed = dict([(speaker, analyze_lines(speaker)) for speaker, _lines in speeches.items()])"
   ]
  },
  {
   "cell_type": "code",
   "execution_count": 81,
   "id": "5326b72b-146b-45a7-9881-26712947def6",
   "metadata": {},
   "outputs": [],
   "source": [
    "speaker_docs = []\n",
    "\n",
    "for _s, ls in all_speaker_lines_analyzed.items():\n",
    "    for l in ls:\n",
    "        speaker_docs += [w.lemma for w in l.words]"
   ]
  },
  {
   "cell_type": "code",
   "execution_count": 117,
   "id": "ac0fd82c-9463-4743-b54a-fcdc9b282eee",
   "metadata": {},
   "outputs": [],
   "source": [
    "from itertools import chain\n",
    "\n",
    "def tf_idf_for_speaker(speaker):\n",
    "    speaker_words = list(chain.from_iterable([l.words for l in all_speaker_lines_analyzed[speaker]]))\n",
    "    speaker_tfs = [(term, calculate_lemma_tf(term, speaker_words)) for term in speaker_words]\n",
    "    speaker_idfs = [(term, calculate_lemma_idf(term, speaker_docs)) for term in speaker_words]\n",
    "    \n",
    "    tf_idfs = []\n",
    "    for (term, tf) in speaker_tfs:\n",
    "        idf = next(idf for (t, idf) in speaker_idfs if t == term)\n",
    "        tf_idfs.append((term.lemma, tf*idf))\n",
    "    \n",
    "    return dict(tf_idfs)"
   ]
  },
  {
   "cell_type": "code",
   "execution_count": 118,
   "id": "b36dd74b-f893-400d-a358-711dca378823",
   "metadata": {},
   "outputs": [],
   "source": [
    "tf_idfs = dict([(speaker, tf_idf_for_speaker(speaker)) for speaker, _lines in speeches.items()])"
   ]
  },
  {
   "cell_type": "code",
   "execution_count": 121,
   "id": "a3c83351-28e1-4478-b8d3-0f7f254282c6",
   "metadata": {},
   "outputs": [],
   "source": [
    "def create_ngrams(word_list, n):\n",
    "    ngrams = []\n",
    " \n",
    "    for num in range(0, len(word_list)):\n",
    "        ngram = tuple(word_list[num:num + n])\n",
    "        ngrams.append(ngram)\n",
    " \n",
    "    return ngrams\n",
    "\n",
    "def score_ngram(ngram, weights, max_score):\n",
    "    scores = [weights.get(w[0].lemma, 0) for w in ngram]\n",
    "    \n",
    "    return (sum(scores) / len(scores)) / max_score"
   ]
  },
  {
   "cell_type": "code",
   "execution_count": 127,
   "id": "fc8662b7-d008-429d-98a0-58fc7c3071c5",
   "metadata": {},
   "outputs": [],
   "source": [
    "def compare_speakers_with_unigrams(speaker_a, speaker_b):\n",
    "    speaker_a_lemmata = all_speaker_lemmata[speaker_a]\n",
    "    speaker_b_tf_idf = tf_idfs[speaker_b]\n",
    "    \n",
    "    return [speaker_b_tf_idf.get(l, 0) for l in speaker_a_lemmata]\n",
    "\n",
    "def compare_speakers_with_ngrams(speaker_a, speaker_b, n):\n",
    "    speaker_a_lines = all_speaker_lines_analyzed[speaker_a]\n",
    "    speaker_a_words = []\n",
    "    for line in speaker_a_lines:\n",
    "        for word in line.words:\n",
    "            speaker_a_words.append((word, line))\n",
    "    speaker_a_ngrams = create_ngrams(speaker_a_words, n)\n",
    "    speaker_b_tf_idf = tf_idfs[speaker_b]\n",
    "    max_tf_idf = speaker_b_tf_idf[max(speaker_b_tf_idf, key=speaker_b_tf_idf.get)]\n",
    "    \n",
    "    scored_ngrams = [score_ngram(ngram, speaker_b_tf_idf, max_tf_idf) for ngram in speaker_a_ngrams]\n",
    "    \n",
    "    return (speaker_a_ngrams, scored_ngrams)"
   ]
  },
  {
   "cell_type": "code",
   "execution_count": 133,
   "id": "acb23e1e-0ccc-4aa9-b27d-0b8605934245",
   "metadata": {},
   "outputs": [],
   "source": [
    "def plot_comparison(speaker_a, speaker_b, n=4):\n",
    "    speaker_a_ngrams, scores = compare_speakers_with_ngrams(speaker_a, speaker_b, n)\n",
    "    ngram_score_dict = dict(zip(speaker_a_ngrams, scores))\n",
    "    x_axis = range(0, len(scores))\n",
    "    fig, ax = plt.subplots()\n",
    "    fig.suptitle(\"{} compared to {} by {}s\".format(speaker_a, speaker_b, n))\n",
    "    high_score_key = max(ngram_score_dict, key=ngram_score_dict.get)\n",
    "    ax.annotate(\" \".join(high_score_key), xy=(speaker_a_ngrams.index(high_score_key), ngram_score_dict[high_score_key]))\n",
    "    ax.plot(x_axis, scores)\n",
    "    plt.ylim([0, 0.6])\n",
    "    plt.show()"
   ]
  },
  {
   "cell_type": "code",
   "execution_count": 124,
   "id": "cb83fc03-1100-463b-a9f3-d100be511c6f",
   "metadata": {},
   "outputs": [],
   "source": [
    "import itertools"
   ]
  },
  {
   "cell_type": "code",
   "execution_count": 125,
   "id": "f595abee-10da-4c2c-85a2-17fcc66e1508",
   "metadata": {},
   "outputs": [],
   "source": [
    "pairs = itertools.permutations([s for s, _l in tf_idfs.items()], 2)\n",
    "only_main_actors = ['Αἴας', 'Ὀδυσσεύς', 'Τεῦκρος', 'Μενέλαος', 'Ἀγαμέμνων', 'Τέκμησσα', 'Ἀθήνα']\n",
    "pairs = [p for p in pairs if p[0] in only_main_actors and p[1] in only_main_actors]"
   ]
  },
  {
   "cell_type": "code",
   "execution_count": 134,
   "id": "e408ffd5-8139-46cb-abc1-004cb23c8083",
   "metadata": {},
   "outputs": [
    {
     "name": "stdout",
     "output_type": "stream",
     "text": [
      "((Word(index_char_start=None, index_char_stop=None, index_token=0, index_sentence=0, string='σὲ', pos=pronoun, lemma='σύ', stem=None, scansion=None, xpos='Pp', upos='PRON', dependency_relation='obj', governor=5, features={Case: [accusative], Gender: [masculine], Number: [singular], Person: [second], PrononimalType: [personal]}, category={F: [pos], N: [pos], V: [neg]}, stop=False, named_entity=None, syllables=None, phonetic_transcription=None, definition=None), Line(n='1226', raw_text='σὲ δὴ τὰ δεινὰ ῥήματʼ ἀγγέλλουσί μοι', words=[Word(index_char_start=None, index_char_stop=None, index_token=0, index_sentence=0, string='σὲ', pos=pronoun, lemma='σύ', stem=None, scansion=None, xpos='Pp', upos='PRON', dependency_relation='obj', governor=5, features={Case: [accusative], Gender: [masculine], Number: [singular], Person: [second], PrononimalType: [personal]}, category={F: [pos], N: [pos], V: [neg]}, stop=False, named_entity=None, syllables=None, phonetic_transcription=None, definition=None), Word(index_char_start=None, index_char_stop=None, index_token=1, index_sentence=0, string='δὴ', pos=adverb, lemma='δή', stem=None, scansion=None, xpos='Df', upos='ADV', dependency_relation='discourse', governor=5, features={}, category={F: [neg], N: [pos], V: [pos]}, stop=True, named_entity=None, syllables=None, phonetic_transcription=None, definition=None), Word(index_char_start=None, index_char_stop=None, index_token=2, index_sentence=0, string='τὰ', pos=determiner, lemma='ὁ', stem=None, scansion=None, xpos='S-', upos='DET', dependency_relation='det', governor=4, features={Case: [nominative], Definiteness: [definite], Gender: [neuter], Number: [plural], PrononimalType: [demonstrative]}, category={F: [pos], N: [pos], V: [neg]}, stop=True, named_entity=None, syllables=None, phonetic_transcription=None, definition=None), Word(index_char_start=None, index_char_stop=None, index_token=3, index_sentence=0, string='δεινὰ', pos=adjective, lemma='δεῖνα', stem=None, scansion=None, xpos='A-', upos='ADJ', dependency_relation='amod', governor=4, features={Case: [nominative], Degree: [positive], Gender: [neuter], Number: [plural]}, category={F: [neg], N: [pos], V: [pos]}, stop=False, named_entity=None, syllables=None, phonetic_transcription=None, definition=None), Word(index_char_start=None, index_char_stop=None, index_token=4, index_sentence=0, string='ῥήματʼ', pos=noun, lemma='ῥῆμα', stem=None, scansion=None, xpos='Nb', upos='NOUN', dependency_relation='nsubj', governor=5, features={Case: [nominative], Gender: [neuter], Number: [plural]}, category={F: [neg], N: [pos], V: [neg]}, stop=False, named_entity=None, syllables=None, phonetic_transcription=None, definition=None), Word(index_char_start=None, index_char_stop=None, index_token=5, index_sentence=0, string='ἀγγέλλουσί', pos=verb, lemma='ἀγγέλλω', stem=None, scansion=None, xpos='V-', upos='VERB', dependency_relation='root', governor=-1, features={Mood: [indicative], Number: [plural], Person: [third], Tense: [present], VerbForm: [finite], Voice: [active]}, category={F: [neg], N: [neg], V: [pos]}, stop=False, named_entity=None, syllables=None, phonetic_transcription=None, definition=None), Word(index_char_start=None, index_char_stop=None, index_token=6, index_sentence=0, string='μοι', pos=pronoun, lemma='ἐγώ', stem=None, scansion=None, xpos='Pp', upos='PRON', dependency_relation='iobj', governor=5, features={Case: [dative], Gender: [masculine], Number: [singular], Person: [first], PrononimalType: [personal]}, category={F: [pos], N: [pos], V: [neg]}, stop=False, named_entity=None, syllables=None, phonetic_transcription=None, definition=None)])), (Word(index_char_start=None, index_char_stop=None, index_token=1, index_sentence=0, string='δὴ', pos=adverb, lemma='δή', stem=None, scansion=None, xpos='Df', upos='ADV', dependency_relation='discourse', governor=5, features={}, category={F: [neg], N: [pos], V: [pos]}, stop=True, named_entity=None, syllables=None, phonetic_transcription=None, definition=None), Line(n='1226', raw_text='σὲ δὴ τὰ δεινὰ ῥήματʼ ἀγγέλλουσί μοι', words=[Word(index_char_start=None, index_char_stop=None, index_token=0, index_sentence=0, string='σὲ', pos=pronoun, lemma='σύ', stem=None, scansion=None, xpos='Pp', upos='PRON', dependency_relation='obj', governor=5, features={Case: [accusative], Gender: [masculine], Number: [singular], Person: [second], PrononimalType: [personal]}, category={F: [pos], N: [pos], V: [neg]}, stop=False, named_entity=None, syllables=None, phonetic_transcription=None, definition=None), Word(index_char_start=None, index_char_stop=None, index_token=1, index_sentence=0, string='δὴ', pos=adverb, lemma='δή', stem=None, scansion=None, xpos='Df', upos='ADV', dependency_relation='discourse', governor=5, features={}, category={F: [neg], N: [pos], V: [pos]}, stop=True, named_entity=None, syllables=None, phonetic_transcription=None, definition=None), Word(index_char_start=None, index_char_stop=None, index_token=2, index_sentence=0, string='τὰ', pos=determiner, lemma='ὁ', stem=None, scansion=None, xpos='S-', upos='DET', dependency_relation='det', governor=4, features={Case: [nominative], Definiteness: [definite], Gender: [neuter], Number: [plural], PrononimalType: [demonstrative]}, category={F: [pos], N: [pos], V: [neg]}, stop=True, named_entity=None, syllables=None, phonetic_transcription=None, definition=None), Word(index_char_start=None, index_char_stop=None, index_token=3, index_sentence=0, string='δεινὰ', pos=adjective, lemma='δεῖνα', stem=None, scansion=None, xpos='A-', upos='ADJ', dependency_relation='amod', governor=4, features={Case: [nominative], Degree: [positive], Gender: [neuter], Number: [plural]}, category={F: [neg], N: [pos], V: [pos]}, stop=False, named_entity=None, syllables=None, phonetic_transcription=None, definition=None), Word(index_char_start=None, index_char_stop=None, index_token=4, index_sentence=0, string='ῥήματʼ', pos=noun, lemma='ῥῆμα', stem=None, scansion=None, xpos='Nb', upos='NOUN', dependency_relation='nsubj', governor=5, features={Case: [nominative], Gender: [neuter], Number: [plural]}, category={F: [neg], N: [pos], V: [neg]}, stop=False, named_entity=None, syllables=None, phonetic_transcription=None, definition=None), Word(index_char_start=None, index_char_stop=None, index_token=5, index_sentence=0, string='ἀγγέλλουσί', pos=verb, lemma='ἀγγέλλω', stem=None, scansion=None, xpos='V-', upos='VERB', dependency_relation='root', governor=-1, features={Mood: [indicative], Number: [plural], Person: [third], Tense: [present], VerbForm: [finite], Voice: [active]}, category={F: [neg], N: [neg], V: [pos]}, stop=False, named_entity=None, syllables=None, phonetic_transcription=None, definition=None), Word(index_char_start=None, index_char_stop=None, index_token=6, index_sentence=0, string='μοι', pos=pronoun, lemma='ἐγώ', stem=None, scansion=None, xpos='Pp', upos='PRON', dependency_relation='iobj', governor=5, features={Case: [dative], Gender: [masculine], Number: [singular], Person: [first], PrononimalType: [personal]}, category={F: [pos], N: [pos], V: [neg]}, stop=False, named_entity=None, syllables=None, phonetic_transcription=None, definition=None)])), (Word(index_char_start=None, index_char_stop=None, index_token=2, index_sentence=0, string='τὰ', pos=determiner, lemma='ὁ', stem=None, scansion=None, xpos='S-', upos='DET', dependency_relation='det', governor=4, features={Case: [nominative], Definiteness: [definite], Gender: [neuter], Number: [plural], PrononimalType: [demonstrative]}, category={F: [pos], N: [pos], V: [neg]}, stop=True, named_entity=None, syllables=None, phonetic_transcription=None, definition=None), Line(n='1226', raw_text='σὲ δὴ τὰ δεινὰ ῥήματʼ ἀγγέλλουσί μοι', words=[Word(index_char_start=None, index_char_stop=None, index_token=0, index_sentence=0, string='σὲ', pos=pronoun, lemma='σύ', stem=None, scansion=None, xpos='Pp', upos='PRON', dependency_relation='obj', governor=5, features={Case: [accusative], Gender: [masculine], Number: [singular], Person: [second], PrononimalType: [personal]}, category={F: [pos], N: [pos], V: [neg]}, stop=False, named_entity=None, syllables=None, phonetic_transcription=None, definition=None), Word(index_char_start=None, index_char_stop=None, index_token=1, index_sentence=0, string='δὴ', pos=adverb, lemma='δή', stem=None, scansion=None, xpos='Df', upos='ADV', dependency_relation='discourse', governor=5, features={}, category={F: [neg], N: [pos], V: [pos]}, stop=True, named_entity=None, syllables=None, phonetic_transcription=None, definition=None), Word(index_char_start=None, index_char_stop=None, index_token=2, index_sentence=0, string='τὰ', pos=determiner, lemma='ὁ', stem=None, scansion=None, xpos='S-', upos='DET', dependency_relation='det', governor=4, features={Case: [nominative], Definiteness: [definite], Gender: [neuter], Number: [plural], PrononimalType: [demonstrative]}, category={F: [pos], N: [pos], V: [neg]}, stop=True, named_entity=None, syllables=None, phonetic_transcription=None, definition=None), Word(index_char_start=None, index_char_stop=None, index_token=3, index_sentence=0, string='δεινὰ', pos=adjective, lemma='δεῖνα', stem=None, scansion=None, xpos='A-', upos='ADJ', dependency_relation='amod', governor=4, features={Case: [nominative], Degree: [positive], Gender: [neuter], Number: [plural]}, category={F: [neg], N: [pos], V: [pos]}, stop=False, named_entity=None, syllables=None, phonetic_transcription=None, definition=None), Word(index_char_start=None, index_char_stop=None, index_token=4, index_sentence=0, string='ῥήματʼ', pos=noun, lemma='ῥῆμα', stem=None, scansion=None, xpos='Nb', upos='NOUN', dependency_relation='nsubj', governor=5, features={Case: [nominative], Gender: [neuter], Number: [plural]}, category={F: [neg], N: [pos], V: [neg]}, stop=False, named_entity=None, syllables=None, phonetic_transcription=None, definition=None), Word(index_char_start=None, index_char_stop=None, index_token=5, index_sentence=0, string='ἀγγέλλουσί', pos=verb, lemma='ἀγγέλλω', stem=None, scansion=None, xpos='V-', upos='VERB', dependency_relation='root', governor=-1, features={Mood: [indicative], Number: [plural], Person: [third], Tense: [present], VerbForm: [finite], Voice: [active]}, category={F: [neg], N: [neg], V: [pos]}, stop=False, named_entity=None, syllables=None, phonetic_transcription=None, definition=None), Word(index_char_start=None, index_char_stop=None, index_token=6, index_sentence=0, string='μοι', pos=pronoun, lemma='ἐγώ', stem=None, scansion=None, xpos='Pp', upos='PRON', dependency_relation='iobj', governor=5, features={Case: [dative], Gender: [masculine], Number: [singular], Person: [first], PrononimalType: [personal]}, category={F: [pos], N: [pos], V: [neg]}, stop=False, named_entity=None, syllables=None, phonetic_transcription=None, definition=None)])), (Word(index_char_start=None, index_char_stop=None, index_token=3, index_sentence=0, string='δεινὰ', pos=adjective, lemma='δεῖνα', stem=None, scansion=None, xpos='A-', upos='ADJ', dependency_relation='amod', governor=4, features={Case: [nominative], Degree: [positive], Gender: [neuter], Number: [plural]}, category={F: [neg], N: [pos], V: [pos]}, stop=False, named_entity=None, syllables=None, phonetic_transcription=None, definition=None), Line(n='1226', raw_text='σὲ δὴ τὰ δεινὰ ῥήματʼ ἀγγέλλουσί μοι', words=[Word(index_char_start=None, index_char_stop=None, index_token=0, index_sentence=0, string='σὲ', pos=pronoun, lemma='σύ', stem=None, scansion=None, xpos='Pp', upos='PRON', dependency_relation='obj', governor=5, features={Case: [accusative], Gender: [masculine], Number: [singular], Person: [second], PrononimalType: [personal]}, category={F: [pos], N: [pos], V: [neg]}, stop=False, named_entity=None, syllables=None, phonetic_transcription=None, definition=None), Word(index_char_start=None, index_char_stop=None, index_token=1, index_sentence=0, string='δὴ', pos=adverb, lemma='δή', stem=None, scansion=None, xpos='Df', upos='ADV', dependency_relation='discourse', governor=5, features={}, category={F: [neg], N: [pos], V: [pos]}, stop=True, named_entity=None, syllables=None, phonetic_transcription=None, definition=None), Word(index_char_start=None, index_char_stop=None, index_token=2, index_sentence=0, string='τὰ', pos=determiner, lemma='ὁ', stem=None, scansion=None, xpos='S-', upos='DET', dependency_relation='det', governor=4, features={Case: [nominative], Definiteness: [definite], Gender: [neuter], Number: [plural], PrononimalType: [demonstrative]}, category={F: [pos], N: [pos], V: [neg]}, stop=True, named_entity=None, syllables=None, phonetic_transcription=None, definition=None), Word(index_char_start=None, index_char_stop=None, index_token=3, index_sentence=0, string='δεινὰ', pos=adjective, lemma='δεῖνα', stem=None, scansion=None, xpos='A-', upos='ADJ', dependency_relation='amod', governor=4, features={Case: [nominative], Degree: [positive], Gender: [neuter], Number: [plural]}, category={F: [neg], N: [pos], V: [pos]}, stop=False, named_entity=None, syllables=None, phonetic_transcription=None, definition=None), Word(index_char_start=None, index_char_stop=None, index_token=4, index_sentence=0, string='ῥήματʼ', pos=noun, lemma='ῥῆμα', stem=None, scansion=None, xpos='Nb', upos='NOUN', dependency_relation='nsubj', governor=5, features={Case: [nominative], Gender: [neuter], Number: [plural]}, category={F: [neg], N: [pos], V: [neg]}, stop=False, named_entity=None, syllables=None, phonetic_transcription=None, definition=None), Word(index_char_start=None, index_char_stop=None, index_token=5, index_sentence=0, string='ἀγγέλλουσί', pos=verb, lemma='ἀγγέλλω', stem=None, scansion=None, xpos='V-', upos='VERB', dependency_relation='root', governor=-1, features={Mood: [indicative], Number: [plural], Person: [third], Tense: [present], VerbForm: [finite], Voice: [active]}, category={F: [neg], N: [neg], V: [pos]}, stop=False, named_entity=None, syllables=None, phonetic_transcription=None, definition=None), Word(index_char_start=None, index_char_stop=None, index_token=6, index_sentence=0, string='μοι', pos=pronoun, lemma='ἐγώ', stem=None, scansion=None, xpos='Pp', upos='PRON', dependency_relation='iobj', governor=5, features={Case: [dative], Gender: [masculine], Number: [singular], Person: [first], PrononimalType: [personal]}, category={F: [pos], N: [pos], V: [neg]}, stop=False, named_entity=None, syllables=None, phonetic_transcription=None, definition=None)])), (Word(index_char_start=None, index_char_stop=None, index_token=4, index_sentence=0, string='ῥήματʼ', pos=noun, lemma='ῥῆμα', stem=None, scansion=None, xpos='Nb', upos='NOUN', dependency_relation='nsubj', governor=5, features={Case: [nominative], Gender: [neuter], Number: [plural]}, category={F: [neg], N: [pos], V: [neg]}, stop=False, named_entity=None, syllables=None, phonetic_transcription=None, definition=None), Line(n='1226', raw_text='σὲ δὴ τὰ δεινὰ ῥήματʼ ἀγγέλλουσί μοι', words=[Word(index_char_start=None, index_char_stop=None, index_token=0, index_sentence=0, string='σὲ', pos=pronoun, lemma='σύ', stem=None, scansion=None, xpos='Pp', upos='PRON', dependency_relation='obj', governor=5, features={Case: [accusative], Gender: [masculine], Number: [singular], Person: [second], PrononimalType: [personal]}, category={F: [pos], N: [pos], V: [neg]}, stop=False, named_entity=None, syllables=None, phonetic_transcription=None, definition=None), Word(index_char_start=None, index_char_stop=None, index_token=1, index_sentence=0, string='δὴ', pos=adverb, lemma='δή', stem=None, scansion=None, xpos='Df', upos='ADV', dependency_relation='discourse', governor=5, features={}, category={F: [neg], N: [pos], V: [pos]}, stop=True, named_entity=None, syllables=None, phonetic_transcription=None, definition=None), Word(index_char_start=None, index_char_stop=None, index_token=2, index_sentence=0, string='τὰ', pos=determiner, lemma='ὁ', stem=None, scansion=None, xpos='S-', upos='DET', dependency_relation='det', governor=4, features={Case: [nominative], Definiteness: [definite], Gender: [neuter], Number: [plural], PrononimalType: [demonstrative]}, category={F: [pos], N: [pos], V: [neg]}, stop=True, named_entity=None, syllables=None, phonetic_transcription=None, definition=None), Word(index_char_start=None, index_char_stop=None, index_token=3, index_sentence=0, string='δεινὰ', pos=adjective, lemma='δεῖνα', stem=None, scansion=None, xpos='A-', upos='ADJ', dependency_relation='amod', governor=4, features={Case: [nominative], Degree: [positive], Gender: [neuter], Number: [plural]}, category={F: [neg], N: [pos], V: [pos]}, stop=False, named_entity=None, syllables=None, phonetic_transcription=None, definition=None), Word(index_char_start=None, index_char_stop=None, index_token=4, index_sentence=0, string='ῥήματʼ', pos=noun, lemma='ῥῆμα', stem=None, scansion=None, xpos='Nb', upos='NOUN', dependency_relation='nsubj', governor=5, features={Case: [nominative], Gender: [neuter], Number: [plural]}, category={F: [neg], N: [pos], V: [neg]}, stop=False, named_entity=None, syllables=None, phonetic_transcription=None, definition=None), Word(index_char_start=None, index_char_stop=None, index_token=5, index_sentence=0, string='ἀγγέλλουσί', pos=verb, lemma='ἀγγέλλω', stem=None, scansion=None, xpos='V-', upos='VERB', dependency_relation='root', governor=-1, features={Mood: [indicative], Number: [plural], Person: [third], Tense: [present], VerbForm: [finite], Voice: [active]}, category={F: [neg], N: [neg], V: [pos]}, stop=False, named_entity=None, syllables=None, phonetic_transcription=None, definition=None), Word(index_char_start=None, index_char_stop=None, index_token=6, index_sentence=0, string='μοι', pos=pronoun, lemma='ἐγώ', stem=None, scansion=None, xpos='Pp', upos='PRON', dependency_relation='iobj', governor=5, features={Case: [dative], Gender: [masculine], Number: [singular], Person: [first], PrononimalType: [personal]}, category={F: [pos], N: [pos], V: [neg]}, stop=False, named_entity=None, syllables=None, phonetic_transcription=None, definition=None)])), (Word(index_char_start=None, index_char_stop=None, index_token=5, index_sentence=0, string='ἀγγέλλουσί', pos=verb, lemma='ἀγγέλλω', stem=None, scansion=None, xpos='V-', upos='VERB', dependency_relation='root', governor=-1, features={Mood: [indicative], Number: [plural], Person: [third], Tense: [present], VerbForm: [finite], Voice: [active]}, category={F: [neg], N: [neg], V: [pos]}, stop=False, named_entity=None, syllables=None, phonetic_transcription=None, definition=None), Line(n='1226', raw_text='σὲ δὴ τὰ δεινὰ ῥήματʼ ἀγγέλλουσί μοι', words=[Word(index_char_start=None, index_char_stop=None, index_token=0, index_sentence=0, string='σὲ', pos=pronoun, lemma='σύ', stem=None, scansion=None, xpos='Pp', upos='PRON', dependency_relation='obj', governor=5, features={Case: [accusative], Gender: [masculine], Number: [singular], Person: [second], PrononimalType: [personal]}, category={F: [pos], N: [pos], V: [neg]}, stop=False, named_entity=None, syllables=None, phonetic_transcription=None, definition=None), Word(index_char_start=None, index_char_stop=None, index_token=1, index_sentence=0, string='δὴ', pos=adverb, lemma='δή', stem=None, scansion=None, xpos='Df', upos='ADV', dependency_relation='discourse', governor=5, features={}, category={F: [neg], N: [pos], V: [pos]}, stop=True, named_entity=None, syllables=None, phonetic_transcription=None, definition=None), Word(index_char_start=None, index_char_stop=None, index_token=2, index_sentence=0, string='τὰ', pos=determiner, lemma='ὁ', stem=None, scansion=None, xpos='S-', upos='DET', dependency_relation='det', governor=4, features={Case: [nominative], Definiteness: [definite], Gender: [neuter], Number: [plural], PrononimalType: [demonstrative]}, category={F: [pos], N: [pos], V: [neg]}, stop=True, named_entity=None, syllables=None, phonetic_transcription=None, definition=None), Word(index_char_start=None, index_char_stop=None, index_token=3, index_sentence=0, string='δεινὰ', pos=adjective, lemma='δεῖνα', stem=None, scansion=None, xpos='A-', upos='ADJ', dependency_relation='amod', governor=4, features={Case: [nominative], Degree: [positive], Gender: [neuter], Number: [plural]}, category={F: [neg], N: [pos], V: [pos]}, stop=False, named_entity=None, syllables=None, phonetic_transcription=None, definition=None), Word(index_char_start=None, index_char_stop=None, index_token=4, index_sentence=0, string='ῥήματʼ', pos=noun, lemma='ῥῆμα', stem=None, scansion=None, xpos='Nb', upos='NOUN', dependency_relation='nsubj', governor=5, features={Case: [nominative], Gender: [neuter], Number: [plural]}, category={F: [neg], N: [pos], V: [neg]}, stop=False, named_entity=None, syllables=None, phonetic_transcription=None, definition=None), Word(index_char_start=None, index_char_stop=None, index_token=5, index_sentence=0, string='ἀγγέλλουσί', pos=verb, lemma='ἀγγέλλω', stem=None, scansion=None, xpos='V-', upos='VERB', dependency_relation='root', governor=-1, features={Mood: [indicative], Number: [plural], Person: [third], Tense: [present], VerbForm: [finite], Voice: [active]}, category={F: [neg], N: [neg], V: [pos]}, stop=False, named_entity=None, syllables=None, phonetic_transcription=None, definition=None), Word(index_char_start=None, index_char_stop=None, index_token=6, index_sentence=0, string='μοι', pos=pronoun, lemma='ἐγώ', stem=None, scansion=None, xpos='Pp', upos='PRON', dependency_relation='iobj', governor=5, features={Case: [dative], Gender: [masculine], Number: [singular], Person: [first], PrononimalType: [personal]}, category={F: [pos], N: [pos], V: [neg]}, stop=False, named_entity=None, syllables=None, phonetic_transcription=None, definition=None)])))\n"
     ]
    },
    {
     "ename": "TypeError",
     "evalue": "unhashable type: 'Word'",
     "output_type": "error",
     "traceback": [
      "\u001b[0;31m---------------------------------------------------------------------------\u001b[0m",
      "\u001b[0;31mTypeError\u001b[0m                                 Traceback (most recent call last)",
      "Cell \u001b[0;32mIn[134], line 2\u001b[0m\n\u001b[1;32m      1\u001b[0m \u001b[38;5;28;01mfor\u001b[39;00m pair \u001b[38;5;129;01min\u001b[39;00m pairs:\n\u001b[0;32m----> 2\u001b[0m     \u001b[43mplot_comparison\u001b[49m\u001b[43m(\u001b[49m\u001b[43mpair\u001b[49m\u001b[43m[\u001b[49m\u001b[38;5;241;43m0\u001b[39;49m\u001b[43m]\u001b[49m\u001b[43m,\u001b[49m\u001b[43m \u001b[49m\u001b[43mpair\u001b[49m\u001b[43m[\u001b[49m\u001b[38;5;241;43m1\u001b[39;49m\u001b[43m]\u001b[49m\u001b[43m,\u001b[49m\u001b[43m \u001b[49m\u001b[38;5;241;43m6\u001b[39;49m\u001b[43m)\u001b[49m\n",
      "Cell \u001b[0;32mIn[133], line 4\u001b[0m, in \u001b[0;36mplot_comparison\u001b[0;34m(speaker_a, speaker_b, n)\u001b[0m\n\u001b[1;32m      2\u001b[0m speaker_a_ngrams, scores \u001b[38;5;241m=\u001b[39m compare_speakers_with_ngrams(speaker_a, speaker_b, n)\n\u001b[1;32m      3\u001b[0m \u001b[38;5;28mprint\u001b[39m(speaker_a_ngrams[\u001b[38;5;241m0\u001b[39m])\n\u001b[0;32m----> 4\u001b[0m ngram_score_dict \u001b[38;5;241m=\u001b[39m \u001b[38;5;28;43mdict\u001b[39;49m\u001b[43m(\u001b[49m\u001b[38;5;28;43mzip\u001b[39;49m\u001b[43m(\u001b[49m\u001b[43mspeaker_a_ngrams\u001b[49m\u001b[43m,\u001b[49m\u001b[43m \u001b[49m\u001b[43mscores\u001b[49m\u001b[43m)\u001b[49m\u001b[43m)\u001b[49m\n\u001b[1;32m      5\u001b[0m x_axis \u001b[38;5;241m=\u001b[39m \u001b[38;5;28mrange\u001b[39m(\u001b[38;5;241m0\u001b[39m, \u001b[38;5;28mlen\u001b[39m(scores))\n\u001b[1;32m      6\u001b[0m fig, ax \u001b[38;5;241m=\u001b[39m plt\u001b[38;5;241m.\u001b[39msubplots()\n",
      "\u001b[0;31mTypeError\u001b[0m: unhashable type: 'Word'"
     ]
    }
   ],
   "source": [
    "for pair in pairs:\n",
    "    plot_comparison(pair[0], pair[1], 6)"
   ]
  },
  {
   "cell_type": "code",
   "execution_count": null,
   "id": "1a0b9639-1f40-442c-9d36-2a4a77c8960e",
   "metadata": {},
   "outputs": [],
   "source": []
  }
 ],
 "metadata": {
  "kernelspec": {
   "display_name": "Python 3 (ipykernel)",
   "language": "python",
   "name": "python3"
  },
  "language_info": {
   "codemirror_mode": {
    "name": "ipython",
    "version": 3
   },
   "file_extension": ".py",
   "mimetype": "text/x-python",
   "name": "python",
   "nbconvert_exporter": "python",
   "pygments_lexer": "ipython3",
   "version": "3.9.18"
  }
 },
 "nbformat": 4,
 "nbformat_minor": 5
}
