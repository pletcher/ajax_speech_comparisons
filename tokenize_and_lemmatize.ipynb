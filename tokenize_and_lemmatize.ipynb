{
 "cells": [
  {
   "cell_type": "code",
   "execution_count": 2,
   "id": "ba381a22-a1cb-484a-9ad3-f74c0158140e",
   "metadata": {},
   "outputs": [],
   "source": [
    "from ajax_odysseus_speech_analysis.group_speeches import AjaxDocument"
   ]
  },
  {
   "cell_type": "code",
   "execution_count": 3,
   "id": "2d141296-e017-4011-8fa1-c2a40d394770",
   "metadata": {},
   "outputs": [],
   "source": [
    "from cltk.lemmatize.grc import GreekBackoffLemmatizer"
   ]
  },
  {
   "cell_type": "code",
   "execution_count": 4,
   "id": "b3f09584-fbf8-4757-90fc-9d91348c56ff",
   "metadata": {},
   "outputs": [],
   "source": [
    "from cltk.alphabet.text_normalization import cltk_normalize"
   ]
  },
  {
   "cell_type": "code",
   "execution_count": 9,
   "id": "2f9a9c8e-99fb-4cb2-b99c-8718ec30d18c",
   "metadata": {},
   "outputs": [],
   "source": [
    "from cltk.tokenizers import GreekTokenizationProcess\n",
    "from cltk.core.data_types import Doc"
   ]
  },
  {
   "cell_type": "code",
   "execution_count": 6,
   "id": "934342f7-27a8-4bfe-979a-79691d812c28",
   "metadata": {},
   "outputs": [],
   "source": [
    "sentence = \"ὦ χαῖρʼ Ἀθάνα, χαῖρε Διογενὲς τέκνον\"\n",
    "normalized_sentence = cltk_normalize(sentence)"
   ]
  },
  {
   "cell_type": "code",
   "execution_count": 14,
   "id": "5648623b-6f3d-4e54-ba7a-413bc31133f0",
   "metadata": {},
   "outputs": [],
   "source": [
    "tokenizer = GreekTokenizationProcess()\n",
    "output = tokenizer.run(input_doc=Doc(raw=normalized_sentence))"
   ]
  },
  {
   "cell_type": "code",
   "execution_count": 15,
   "id": "f785587b-c7b9-4cfa-bf58-e8803307d4a6",
   "metadata": {},
   "outputs": [
    {
     "data": {
      "text/plain": [
       "['ὦ', 'χαῖρʼ', 'Ἀθάνα', ',', 'χαῖρε', 'Διογενὲς', 'τέκνον']"
      ]
     },
     "execution_count": 15,
     "metadata": {},
     "output_type": "execute_result"
    }
   ],
   "source": [
    "output.tokens"
   ]
  },
  {
   "cell_type": "code",
   "execution_count": 39,
   "id": "7e4038f5-ab98-4a59-b7f1-052dbeb7f9d7",
   "metadata": {},
   "outputs": [],
   "source": [
    "from cltk.stops.grc import STOPS as stop_words"
   ]
  },
  {
   "cell_type": "code",
   "execution_count": 40,
   "id": "631de415-4344-41ae-b753-09fe303e17a3",
   "metadata": {},
   "outputs": [],
   "source": [
    "tokens = [token for token in output.tokens if token not in stop_words]"
   ]
  },
  {
   "cell_type": "code",
   "execution_count": 43,
   "id": "1e40d4f4-c416-49c3-969d-20e30f4ab5b9",
   "metadata": {},
   "outputs": [],
   "source": [
    "from cltk.data.fetch import FetchCorpus"
   ]
  },
  {
   "cell_type": "code",
   "execution_count": 44,
   "id": "95f32905-3f7e-4af3-8dee-73ed18da7be3",
   "metadata": {},
   "outputs": [],
   "source": [
    "downloader = FetchCorpus(language='grc')"
   ]
  },
  {
   "cell_type": "code",
   "execution_count": 46,
   "id": "80b3ad8b-cd33-4c1b-9530-b41c6f23e161",
   "metadata": {},
   "outputs": [
    {
     "name": "stdout",
     "output_type": "stream",
     "text": [
      "Downloaded 100% 50.72 MiB | 11.53 MiB/s \r"
     ]
    }
   ],
   "source": [
    "downloader.import_corpus('grc_models_cltk')"
   ]
  },
  {
   "cell_type": "code",
   "execution_count": 47,
   "id": "4529524b-c17d-4865-a04d-11b4ab7b8770",
   "metadata": {},
   "outputs": [],
   "source": [
    "lemmatizer = GreekBackoffLemmatizer()\n",
    "lemmata = [lemmatizer.lemmatize(t) for t in tokens]"
   ]
  },
  {
   "cell_type": "code",
   "execution_count": 52,
   "id": "757f28f4-c0ce-4a01-8cfe-f999e4852931",
   "metadata": {},
   "outputs": [
    {
     "data": {
      "text/plain": [
       "[('χαῖρʼ', 'χαῖρʼ'),\n",
       " ('Ἀθάνα', 'Ἀθήνη'),\n",
       " ('χαῖρε', 'χαίρω'),\n",
       " ('Διογενὲς', 'διογενής'),\n",
       " ('τέκνον', 'τέκνον')]"
      ]
     },
     "execution_count": 52,
     "metadata": {},
     "output_type": "execute_result"
    }
   ],
   "source": [
    "lemmatizer.lemmatize(tokens)"
   ]
  }
 ],
 "metadata": {
  "kernelspec": {
   "display_name": "Python 3 (ipykernel)",
   "language": "python",
   "name": "python3"
  },
  "language_info": {
   "codemirror_mode": {
    "name": "ipython",
    "version": 3
   },
   "file_extension": ".py",
   "mimetype": "text/x-python",
   "name": "python",
   "nbconvert_exporter": "python",
   "pygments_lexer": "ipython3",
   "version": "3.10.4"
  }
 },
 "nbformat": 4,
 "nbformat_minor": 5
}
